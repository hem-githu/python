{
  "nbformat": 4,
  "nbformat_minor": 0,
  "metadata": {
    "colab": {
      "provenance": [],
      "authorship_tag": "ABX9TyPzuozhR336bI+Y9ulSdj5F",
      "include_colab_link": true
    },
    "kernelspec": {
      "name": "python3",
      "display_name": "Python 3"
    },
    "language_info": {
      "name": "python"
    }
  },
  "cells": [
    {
      "cell_type": "markdown",
      "metadata": {
        "id": "view-in-github",
        "colab_type": "text"
      },
      "source": [
        "<a href=\"https://colab.research.google.com/github/hem-githu/python/blob/main/Python_OOPs_Assignment_Hem_Pandey.ipynb\" target=\"_parent\"><img src=\"https://colab.research.google.com/assets/colab-badge.svg\" alt=\"Open In Colab\"/></a>"
      ]
    },
    {
      "cell_type": "markdown",
      "source": [
        "# Python OOPs_Assignment_Hem Pandey\n",
        "\n",
        "## Python OOPs Theory Questions\n",
        "\n",
        "1. What is Object-Oriented Programming (OOP)?\n",
        "\n",
        "Ans. Object-Oriented Programming (OOP) is a way of writing code where we model real-world things as objects. These objects are an instance of a class and are created from classes (blueprints) and combine data/variables (attributes) with methods (functions).\n",
        "The four main pillars are:\n",
        "- Encapsulation – bundling data and methods together\n",
        "- Inheritance – reusing code by creating child classes from parent classes\n",
        "- Polymorphism – same action, different behavior depending on the object\n",
        "- Abstraction – hiding complex details, showing only essentials\n",
        "Think of it as building software with reusable “lego blocks” instead of scattered pieces.\n",
        "\n",
        "\n",
        "2. What is a class in OOP?\n",
        "\n",
        "Ans. A class in is essentially a blueprint or template for creating objects. It defines the attributes (data/properties/variable) and methods (functions/behaviors) that its objects will have.\n",
        "***Points about a Class:***\n",
        "- Encapsulates data + behavior: Groups variables (attributes) and functions (methods) together.\n",
        "- No memory until instantiated: A class itself doesn’t occupy memory; memory is allocated only when an object is created.\n",
        "- Supports reusability: Once defined, you can create multiple objects from the same class.\n",
        "- Foundation of OOP: Classes enable inheritance, polymorphism, and abstraction.\n",
        "\n",
        "3. What is an object in OOP?\n",
        "\n",
        "Ans. An object is a real-world entity in code—an instance of a class that bundles together variable (attributes/features) and functions (methods).\n",
        "***Key Features of an Object:***\n",
        "- Instance of a class → Created using the class definition.\n",
        "- Has state → Stored in attributes (e.g., color = \"red\").\n",
        "- Has behavior → Defined by methods (e.g., drive()).\n",
        "- Unique identity → Each object is distinct in memory, even if created from the same class.\n",
        "\n",
        "4. What is the difference between abstraction and encapsulation?\n",
        "\n",
        "Ans.*** Abstraction ***\n",
        "- It’s about showing only the essential features and hiding the background details.\n",
        "- Focuses on what an object does, not how it does it.\n",
        "***Encapsulation***\n",
        "- It’s about wrapping data and methods together inside a class and restricting direct access to some parts.\n",
        "- Focuses on how the data is hidden and protected.\n",
        "***In short:***\n",
        "- Abstraction hides implementation complexity and shows only the necessary interface.\n",
        "- Encapsulation hides internal data and controls access to it.\n",
        "\n",
        "5. What are dunder methods in Python?\n",
        "\n",
        "Ans. dunder methods (short for “double underscore” methods) are special, built-in methods whose names begin and end with two underscores, like __init__, __str__, or __len__.They’re also called magic methods or special methods.\n",
        "- It define how objects interact with operators, functions, and built-in behaviors.\n",
        "- Python automatically calls them in response to certain actions.\n",
        "\n",
        "6. Explain the concept of inheritance in OOP?\n",
        "\n",
        "Ans. - Inheritance allows a class (called the child class or subclass) to acquire the properties and behaviors (attributes and methods) of another class (called the parent class or superclass).\n",
        "- Purpose: It promotes code reusability, hierarchical relationships, and makes programs easier to extend and maintain.\n",
        "\n",
        "***Types of Inheritance (depending on the language):***\n",
        "- Single Inheritance: One child inherits from one parent.\n",
        "- Multiple Inheritance: A child inherits from multiple parents (Python supports this).\n",
        "- Multilevel Inheritance: A child inherits from a parent, which itself inherits from another parent.\n",
        "- Hierarchical Inheritance: Multiple children inherit from the same parent.\n",
        "\n",
        "\n",
        "7. What is polymorphism in OOP?\n",
        "\n",
        "Ans.\n",
        "polymorphism allows the same operation, method, or object to behave differently depending on the context.\n",
        "- One interface, many implementations → You can call the same method name on different objects, and each object can respond in its own way.\n",
        "- Flexibility → Lets you write more general, reusable code.\n",
        "***Types of Polymorphism:***\n",
        "- Compile-time (Static) → Achieved through method overloading or operator overloading.\n",
        "- Runtime (Dynamic) → Achieved through method overriding (child class provides its own version of a parent method).\n",
        "\n",
        "\n",
        "\n",
        "8. How is encapsulation achieved in Python?\n",
        "\n",
        "Ans. Encapsulation in Python is achieved by bundling data (attributes) and methods (functions) inside a class and then controlling access to that data using naming conventions and access modifiers. The idea is to protect the internal state of an object and only expose what’s necessary.\n",
        "\n",
        "9. What is a constructor in Python?\n",
        "\n",
        "Ans. In Python, a constructor is a special method that is automatically called when you create a new object from a class. Its main job is to initialize the object’s attributes (variables) and set up its initial state.\n",
        "\n",
        "10. What are class and static methods in Python?\n",
        "\n",
        "Ans.*** Class Methods***\n",
        "- Defined with the @classmethod decorator.\n",
        "- The first parameter is always cls (refers to the class itself, not the object).\n",
        "- Can access and modify class-level data (shared across all objects).\n",
        "- Often used for factory methods — alternative ways to create objects.\n",
        "\n",
        "*** Static Methods***\n",
        "\n",
        "- Defined with the @staticmethod decorator.\n",
        "- Do not take self (object) or cls (class) as the first argument.\n",
        "- Behave like regular functions, but are placed inside a class for logical grouping.\n",
        "- Cannot access or modify class or instance data directly.\n",
        "- Typically used for utility/helper functions.\n",
        "\n",
        "11.What is method overloading in Python?\n",
        "\n",
        "Ans.In OOP, method overloading means having multiple methods with the same name but different parameter lists (different number or types of arguments).\n",
        "- In Java/C++, this is built-in: you can define multiple versions of the same method, and the compiler decides which one to call.\n",
        "- In Python, however, true method overloading is not supported by default. If you define a method with the same name multiple times in a class, the last definition overwrites the earlier ones.\n",
        "\n",
        "12. What is method overriding in OOP?\n",
        "\n",
        "Ans.\n",
        "Method overriding is a core concept in Object-Oriented Programming (OOP) that allows a child class (subclass) to provide its own implementation of a method that is already defined in its parent class (superclass).\n",
        "- The child’s version replaces (overrides) the parent’s version when called on a child object.\n",
        "- It enables runtime polymorphism → the method that gets executed depends on the actual object type, not the reference type.\n",
        "\n",
        "13. What is a property decorator in Python?\n",
        "\n",
        "Ans. It is a built-in feature that lets you turn a class method into a managed attribute. It’s a clean, Pythonic way to implement getters, setters, and deleters without explicitly calling methods like get_x() or set_x().\n",
        "\n",
        "14. Why is polymorphism important in OOP?\n",
        "Ans. Polymorphism is hugely important in Object-Oriented Programming (OOP) because it makes code more flexible, reusable, and easier to maintain. It’s the principle that allows the same method name or operation to behave differently depending on the object it’s acting on.\n",
        "\n",
        "15. What is an abstract class in Python?\n",
        "\n",
        "Ans.- An abstract class is a class that cannot be instantiated directly.\n",
        "- It’s meant to act as a template (blueprint) for other classes.\n",
        "- It can define:\n",
        "- Abstract methods → declared but not implemented (subclasses must implement them).\n",
        "- Concrete methods → fully implemented methods that subclasses can inherit as-is.\n",
        "- In Python, abstract classes are created using the abc module (ABC base class and @abstractmethod decorator).\n",
        "\n",
        "16. What are the advantages of OOP?\n",
        "\n",
        "Ans.\n",
        "***Advantages of OOPs***\n",
        "***Modularity (Code Organization)***\n",
        "- Code is organized into classes and objects, making it easier to structure large projects.\n",
        "- Each object is a self-contained unit with its own data and behavior.\n",
        "***Reusability (Inheritance)***\n",
        "- Existing classes can be reused and extended without rewriting code.\n",
        "- Reduces redundancy and speeds up development.\n",
        "***Flexibility & Extensibility (Polymorphism)***\n",
        "- The same interface can work with different underlying forms (e.g., speak() works differently for Dog and Cat).\n",
        "- Makes systems adaptable to future changes.\n",
        "***Data Security (Encapsulation)***\n",
        "- Internal details of objects are hidden; access is controlled via getters/setters.\n",
        "- Prevents accidental or unauthorized modification of data\n",
        "\n",
        "\n",
        "17. What is the difference between a class variable and an instance variable?\n",
        "\n",
        "Ans. ***Class Variable***\n",
        "- Belongs to the class itself, not to any one object.\n",
        "- Shared across all instances of the class.\n",
        "- Defined inside the class but outside any method.\n",
        "- Changing it through the class affects all objects\n",
        "\n",
        "***Instance Variable***\n",
        "- Belongs to a specific object (instance).\n",
        "- Each object has its own copy.\n",
        "- Defined inside methods (usually __init__) using self.\n",
        "- Changing it affects only that object\n",
        "\n",
        "18. What is multiple inheritance in Python?\n",
        "\n",
        "Ans. Multiple inheritance is a feature in Python where a class can inherit from more than one parent class. This means the child class gets access to the attributes and methods of all its parent classes.\n",
        "\n",
        "\n",
        "19. Explain the purpose of ‘’__str__’ and ‘__repr__’ ‘ methods in Python?\n",
        "\n",
        "Ans. ***Purpose of __str__***\n",
        "- Called by the built-in str() function and print().\n",
        "- Returns a human-readable string representation of the object.\n",
        "- Goal → make the object’s output friendly and easy to understand for end users.\n",
        "\n",
        "***Purpose of __repr__***\n",
        "- Called by the built-in repr() function, and also used in the Python shell / debugger.\n",
        "- Returns an unambiguous string representation of the object.\n",
        "- Goal → give developers a string that ideally could be used to recreate the object (or at least show its internal state clearly).\n",
        "\n",
        "20. What is the significance of the ‘super()’ function in Python?\n",
        "\n",
        "Ans. The  function in Python is a built-in tool that gives you access to methods and properties of a parent (superclass) from within a child (subclass). It’s especially important in inheritance hierarchies, where you want to extend or override behavior without losing the functionality of the parent.\n",
        "\n",
        "21. What is the significance of the __del__ method in Python?\n",
        "\n",
        "Ans. The __del__ method in Python is a special (dunder) method, often called the destructor or finalizer, that is invoked when an object is about to be destroyed by Python’s garbage collector. Its main purpose is to let you define cleanup actions before the object’s memory is reclaimed.\n",
        "\n",
        "\n",
        "22. What is the difference between @staticmethod and @classmethod in Python?\n",
        "\n",
        "Ans. ***A static method*** is defined with the @staticmethod decorator. It behaves like a plain function that just happens to live inside a class. It doesn’t take self (the instance) or cls (the class) as its first argument. That means it cannot access or modify either instance variables or class variables directly. You use it when you want a utility function that logically belongs to the class but doesn’t need to know anything about the class or its objects. For example, a math helper like is_even(number) could be a static method inside a MathUtils class.\n",
        "***A class method***, on the other hand, is defined with the @classmethod decorator. It takes cls as its first argument, which represents the class itself. This allows it to access and modify class-level variables that are shared across all instances. Class methods are often used for factory methods (alternative constructors) or when you want to change some state that affects all objects of the class. For example, a change_school(cls, new_school) method in a Student class could update the school variable for every student.\n",
        "\n",
        "23. How does polymorphism work in Python with inheritance?\n",
        "\n",
        "Ans. - With inheritance, a parent class defines a method, and child classes can override that method with their own implementation.\n",
        "- At runtime, Python decides which version of the method to call based on the actual object type, not the reference type.\n",
        "- This is called runtime polymorphism (via method overriding).\n",
        "\n",
        "\n",
        "\n",
        "24.  What is method chaining in Python OOP?\n",
        "\n",
        "Ans. Method chaining in Python OOP is a programming style where you call multiple methods on the same object in a single, continuous line of code. Each method returns the object itself (usually self), which allows the next method to be invoked immediately. This creates a fluent interface that makes code more concise and readable\n",
        "\n",
        "\n",
        "25. What is the purpose of the __call__ method in Python?\n",
        "\n",
        "\n",
        "Ans.  the __call__ method is one of Python’s most elegant dunder methods because it lets you make objects behave like functions. When we define __call__ inside a class, we can call an instance of that class as if it were a function.\n",
        "\n",
        "\n",
        "\n",
        "\n",
        "\n"
      ],
      "metadata": {
        "id": "pZqQoVlE8x0J"
      }
    },
    {
      "cell_type": "markdown",
      "source": [
        "# OOPs practical questions"
      ],
      "metadata": {
        "id": "v0uYBC1oRi57"
      }
    },
    {
      "cell_type": "code",
      "execution_count": 1,
      "metadata": {
        "colab": {
          "base_uri": "https://localhost:8080/"
        },
        "id": "wKzrdKwj8wHi",
        "outputId": "28715193-9a7c-4375-bc22-055c248b3432"
      },
      "outputs": [
        {
          "output_type": "stream",
          "name": "stdout",
          "text": [
            "This is a generic animal sound.\n"
          ]
        }
      ],
      "source": [
        "#1. Create a parent class Animal with a method speak() that prints a generic message. Create a child class Dog that overrides the speak() method to print \"Bark!\".\n",
        "class Animal:\n",
        "    def speak(self):\n",
        "        print(\"This is a generic animal sound.\")\n",
        "\n",
        "class Dog(Animal):\n",
        "    def speak(self):   # overriding the parent method\n",
        "        print(\"Bark!\")\n",
        "\n",
        "a = Animal()\n",
        "a.speak()"
      ]
    },
    {
      "cell_type": "code",
      "source": [
        "# 2. Write a program to create an abstract class Shape with a method area(). Derive classes Circle and Rectangle from it and implement the area() method in both.\n",
        "from abc import ABC, abstractmethod\n",
        "import math\n",
        "\n",
        "# Abstract class\n",
        "class Shape(ABC):\n",
        "    @abstractmethod\n",
        "    def area(self):\n",
        "        pass   # subclasses must implement this\n",
        "\n",
        "# Circle class\n",
        "class Circle(Shape):\n",
        "    def __init__(self, radius):\n",
        "        self.radius = radius\n",
        "\n",
        "    def area(self):\n",
        "        return math.pi * self.radius ** 2\n",
        "\n",
        "# Rectangle class\n",
        "class Rectangle(Shape):\n",
        "    def __init__(self, length, width):\n",
        "        self.length = length\n",
        "        self.width = width\n",
        "\n",
        "    def area(self):\n",
        "        return self.length * self.width\n",
        "shapes = [Circle(5), Rectangle(4, 6)]\n",
        "\n",
        "for shape in shapes:\n",
        "    print(f\"{shape.__class__.__name__} area: {shape.area():.2f}\")\n"
      ],
      "metadata": {
        "colab": {
          "base_uri": "https://localhost:8080/"
        },
        "id": "Bvo2LM0nR15n",
        "outputId": "7eb2113e-88f3-4fe2-e4d7-5a10c2e1ad3f"
      },
      "execution_count": 2,
      "outputs": [
        {
          "output_type": "stream",
          "name": "stdout",
          "text": [
            "Circle area: 78.54\n",
            "Rectangle area: 24.00\n"
          ]
        }
      ]
    },
    {
      "cell_type": "code",
      "source": [
        "#3. Implement a multi-level inheritance scenario where a class Vehicle has an attribute type. Derive a class Car and further derive a class ElectricCar that adds a battery attribute.\n",
        "class Vehicle:\n",
        "    def __init__(self, vehicle_type):\n",
        "        self.type = vehicle_type\n",
        "\n",
        "    def show_type(self):\n",
        "        print(f\"Vehicle type: {self.type}\")\n",
        "\n",
        "# Derived class\n",
        "class Car(Vehicle):\n",
        "    def __init__(self, vehicle_type, brand):\n",
        "        super().__init__(vehicle_type)   # call Vehicle's constructor\n",
        "        self.brand = brand\n",
        "\n",
        "    def show_details(self):\n",
        "        print(f\"Car brand: {self.brand}, Type: {self.type}\")\n",
        "\n",
        "# Further derived class\n",
        "class ElectricCar(Car):\n",
        "    def __init__(self, vehicle_type, brand, battery_capacity):\n",
        "        super().__init__(vehicle_type, brand)   # call Car's constructor\n",
        "        self.battery = battery_capacity\n",
        "\n",
        "    def show_info(self):\n",
        "        print(f\"Electric Car -> Brand: {self.brand}, Type: {self.type}, Battery: {self.battery} kWh\")\n",
        "ecar = ElectricCar(\"Four-wheeler\", \"Tesla\", 75)\n",
        "ecar.show_type()\n",
        "ecar.show_details()\n",
        "ecar.show_info()"
      ],
      "metadata": {
        "colab": {
          "base_uri": "https://localhost:8080/"
        },
        "id": "UCaGdI2jSGiV",
        "outputId": "ada28fe4-cf74-4bfe-818a-29cd77c385e6"
      },
      "execution_count": 3,
      "outputs": [
        {
          "output_type": "stream",
          "name": "stdout",
          "text": [
            "Vehicle type: Four-wheeler\n",
            "Car brand: Tesla, Type: Four-wheeler\n",
            "Electric Car -> Brand: Tesla, Type: Four-wheeler, Battery: 75 kWh\n"
          ]
        }
      ]
    },
    {
      "cell_type": "code",
      "source": [
        "#4. Demonstrate polymorphism by creating a base class Bird with a method fly(). Create two derived classes Sparrow and Penguin that override the fly() method.\n",
        "class Bird:\n",
        "    def fly(self):\n",
        "        print(\"Some birds can fly, some cannot.\")\n",
        "\n",
        "# Derived class 1\n",
        "class Sparrow(Bird):\n",
        "    def fly(self):   # overriding\n",
        "        print(\"Sparrow flies high in the sky!\")\n",
        "\n",
        "# Derived class 2\n",
        "class Penguin(Bird):\n",
        "    def fly(self):   # overriding\n",
        "        print(\"Penguins cannot fly, but they swim gracefully!\")\n",
        "\n",
        "# Testing polymorphism\n",
        "birds = [Sparrow(), Penguin(), Bird()]\n",
        "\n",
        "for b in birds:\n",
        "    b.fly()\n"
      ],
      "metadata": {
        "colab": {
          "base_uri": "https://localhost:8080/"
        },
        "id": "rXehV5pWSWuw",
        "outputId": "823436fc-7218-4750-a014-65796ce7caaa"
      },
      "execution_count": 4,
      "outputs": [
        {
          "output_type": "stream",
          "name": "stdout",
          "text": [
            "Sparrow flies high in the sky!\n",
            "Penguins cannot fly, but they swim gracefully!\n",
            "Some birds can fly, some cannot.\n"
          ]
        }
      ]
    },
    {
      "cell_type": "code",
      "source": [
        "#5. Write a program to demonstrate encapsulation by creating a class BankAccount with private attributes balance and methods to deposit, withdraw, and check balance.\n",
        "class BankAccount:\n",
        "    def __init__(self, initial_balance=0):\n",
        "        # private attribute\n",
        "        self.__balance = initial_balance\n",
        "\n",
        "    # method to deposit money\n",
        "    def deposit(self, amount):\n",
        "        if amount > 0:\n",
        "            self.__balance += amount\n",
        "            print(f\"Deposited: {amount}\")\n",
        "        else:\n",
        "            print(\"Deposit amount must be positive.\")\n",
        "\n",
        "    # method to withdraw money\n",
        "    def withdraw(self, amount):\n",
        "        if 0 < amount <= self.__balance:\n",
        "            self.__balance -= amount\n",
        "            print(f\"Withdrew: {amount}\")\n",
        "        else:\n",
        "            print(\"Insufficient balance or invalid amount.\")\n",
        "\n",
        "    # method to check balance\n",
        "    def get_balance(self):\n",
        "        return self.__balance\n",
        "account = BankAccount(1000)\n",
        "account.deposit(500)\n",
        "account.withdraw(200)\n",
        "print(\"Balance:\", account.get_balance())"
      ],
      "metadata": {
        "colab": {
          "base_uri": "https://localhost:8080/"
        },
        "id": "pI4bZzcTSgp7",
        "outputId": "d3836d6a-38c5-409d-cc29-a9c462b6b65b"
      },
      "execution_count": 5,
      "outputs": [
        {
          "output_type": "stream",
          "name": "stdout",
          "text": [
            "Deposited: 500\n",
            "Withdrew: 200\n",
            "Balance: 1300\n"
          ]
        }
      ]
    },
    {
      "cell_type": "code",
      "source": [
        "# 6. Demonstrate runtime polymorphism using a method play() in a base class Instrument. Derive classes Guitar and Piano that implement their own version of play().\n",
        "class Instrument:\n",
        "    def play(self):\n",
        "        print(\"This instrument makes a sound.\")\n",
        "\n",
        "# Derived class 1\n",
        "class Guitar(Instrument):\n",
        "    def play(self):   # overriding\n",
        "        print(\"Strumming the guitar \")\n",
        "\n",
        "# Derived class 2\n",
        "class Piano(Instrument):\n",
        "    def play(self):   # overriding\n",
        "        print(\"Playing the piano \")\n",
        "\n",
        "# Testing runtime polymorphism\n",
        "instruments = [Instrument(), Guitar(), Piano()]\n",
        "\n",
        "for inst in instruments:\n",
        "    inst.play()   # same method call, different behavior\n"
      ],
      "metadata": {
        "colab": {
          "base_uri": "https://localhost:8080/"
        },
        "id": "g9AMOebuSza2",
        "outputId": "d68a05ae-cb88-46f6-bd7e-ee0b61d5411c"
      },
      "execution_count": 7,
      "outputs": [
        {
          "output_type": "stream",
          "name": "stdout",
          "text": [
            "This instrument makes a sound.\n",
            "Strumming the guitar \n",
            "Playing the piano \n"
          ]
        }
      ]
    },
    {
      "cell_type": "code",
      "source": [
        "# 7. Create a class MathOperations with a class method add_numbers() to add two numbers and a static method subtract_numbers() to subtract two numbers.\n",
        "class MathOperations:\n",
        "    # Class method\n",
        "    @classmethod\n",
        "    def add_numbers(cls, a, b):\n",
        "        return a + b\n",
        "\n",
        "    # Static method\n",
        "    @staticmethod\n",
        "    def subtract_numbers(a, b):\n",
        "        return a - b\n",
        "\n",
        "\n",
        "# Testing\n",
        "print(\"Addition:\", MathOperations.add_numbers(10, 5))\n",
        "print(\"Subtraction:\", MathOperations.subtract_numbers(10, 5))"
      ],
      "metadata": {
        "colab": {
          "base_uri": "https://localhost:8080/"
        },
        "id": "DqPrcp_aS8z5",
        "outputId": "a190e77a-12be-4f07-af7b-6af3c25954c4"
      },
      "execution_count": 8,
      "outputs": [
        {
          "output_type": "stream",
          "name": "stdout",
          "text": [
            "Addition: 15\n",
            "Subtraction: 5\n"
          ]
        }
      ]
    },
    {
      "cell_type": "code",
      "source": [
        "#8. Implement a class Person with a class method to count the total number of persons created.\n"
      ],
      "metadata": {
        "id": "z_Y6wpYiTJ0x"
      },
      "execution_count": null,
      "outputs": []
    },
    {
      "cell_type": "code",
      "source": [
        "class Person:\n",
        "    # class variable to keep count\n",
        "    count = 0\n",
        "\n",
        "    def __init__(self, name):\n",
        "        self.name = name\n",
        "        Person.count += 1   # increment whenever a new object is created\n",
        "\n",
        "    @classmethod\n",
        "    def total_persons(cls):\n",
        "        return cls.count\n",
        "\n",
        "\n",
        "# Testing\n",
        "p1 = Person(\"Hem\")\n",
        "p2 = Person(\"Amit\")\n",
        "p3 = Person(\"Riya\")\n",
        "\n",
        "print(\"Total persons created:\", Person.total_persons())\n"
      ],
      "metadata": {
        "colab": {
          "base_uri": "https://localhost:8080/"
        },
        "id": "v1JMyDzUTPO7",
        "outputId": "7042d0aa-a4fb-408e-bda4-a284ecf92b84"
      },
      "execution_count": 9,
      "outputs": [
        {
          "output_type": "stream",
          "name": "stdout",
          "text": [
            "Total persons created: 3\n"
          ]
        }
      ]
    },
    {
      "cell_type": "code",
      "source": [
        "# 9. Write a class Fraction with attributes numerator and denominator. Override the str method to display the fraction as \"numerator/denominator\".\n",
        "class Fraction:\n",
        "    def __init__(self, numerator, denominator):\n",
        "        self.numerator = numerator\n",
        "        self.denominator = denominator\n",
        "\n",
        "    def __str__(self):\n",
        "        return f\"{self.numerator}/{self.denominator}\"\n",
        "\n",
        "\n",
        "# Testing\n",
        "f1 = Fraction(3, 4)\n",
        "f2 = Fraction(7, 2)\n",
        "\n",
        "print(f1)\n",
        "print(f2)"
      ],
      "metadata": {
        "colab": {
          "base_uri": "https://localhost:8080/"
        },
        "id": "VvRDP_q9TSE4",
        "outputId": "897d5135-56c5-48f0-f209-1695fe0efa6b"
      },
      "execution_count": 10,
      "outputs": [
        {
          "output_type": "stream",
          "name": "stdout",
          "text": [
            "3/4\n",
            "7/2\n"
          ]
        }
      ]
    },
    {
      "cell_type": "code",
      "source": [
        "# 10. Demonstrate operator overloading by creating a class Vector and overriding the add method to add two vectors.\n",
        "class Vector:\n",
        "    def __init__(self, x, y):\n",
        "        self.x = x\n",
        "        self.y = y\n",
        "\n",
        "    # Overloading the + operator\n",
        "    def __add__(self, other):\n",
        "        return Vector(self.x + other.x, self.y + other.y)\n",
        "\n",
        "    def __str__(self):\n",
        "        return f\"({self.x}, {self.y})\"\n",
        "\n",
        "\n",
        "# Testing\n",
        "v1 = Vector(2, 3)\n",
        "v2 = Vector(4, 5)\n",
        "\n",
        "v3 = v1 + v2   # calls v1.__add__(v2)\n",
        "print(\"v1:\", v1)\n",
        "print(\"v2:\", v2)\n",
        "print(\"v1 + v2 =\", v3)"
      ],
      "metadata": {
        "colab": {
          "base_uri": "https://localhost:8080/"
        },
        "id": "HnRNCzSqTdDC",
        "outputId": "4e22a00c-bb20-45b4-8814-a733e6e8c850"
      },
      "execution_count": 11,
      "outputs": [
        {
          "output_type": "stream",
          "name": "stdout",
          "text": [
            "v1: (2, 3)\n",
            "v2: (4, 5)\n",
            "v1 + v2 = (6, 8)\n"
          ]
        }
      ]
    },
    {
      "cell_type": "code",
      "source": [
        "# 11. Create a class Person with attributes name and age. Add a method greet() that prints \"Hello, my name is {name} and I am {age} years old.\"\n",
        "class Person:\n",
        "    def __init__(self, name, age):\n",
        "        self.name = name\n",
        "        self.age = age\n",
        "\n",
        "    def greet(self):\n",
        "        print(f\"Hello, my name is {self.name} and I am {self.age} years old.\")\n",
        "\n",
        "\n",
        "# Testing\n",
        "p1 = Person(\"Hem\", 28)\n",
        "p2 = Person(\"Amit\", 32)\n",
        "\n",
        "p1.greet()\n",
        "p2.greet()\n"
      ],
      "metadata": {
        "colab": {
          "base_uri": "https://localhost:8080/"
        },
        "id": "rFuQ4MtqTp1Q",
        "outputId": "fdb6f0f3-6916-403b-b1de-d6557aa5c14b"
      },
      "execution_count": 12,
      "outputs": [
        {
          "output_type": "stream",
          "name": "stdout",
          "text": [
            "Hello, my name is Hem and I am 28 years old.\n",
            "Hello, my name is Amit and I am 32 years old.\n"
          ]
        }
      ]
    },
    {
      "cell_type": "code",
      "source": [
        "# 12. Implement a class Student with attributes name and grades. Create a method average_grade() to compute the average of the grades.\n",
        "class Student:\n",
        "    def __init__(self, name, grades):\n",
        "        self.name = name\n",
        "        self.grades = grades   # expecting a list of numbers\n",
        "\n",
        "    def average_grade(self):\n",
        "        if len(self.grades) == 0:\n",
        "            return 0\n",
        "        return sum(self.grades) / len(self.grades)\n",
        "\n",
        "\n",
        "# Testing\n",
        "s1 = Student(\"Hem\", [85, 90, 78, 92])\n",
        "s2 = Student(\"Amit\", [70, 65, 80])\n",
        "\n",
        "print(f\"{s1.name}'s average grade: {s1.average_grade():.2f}\")\n",
        "print(f\"{s2.name}'s average grade: {s2.average_grade():.2f}\")"
      ],
      "metadata": {
        "colab": {
          "base_uri": "https://localhost:8080/"
        },
        "id": "mFDwT7kbT07d",
        "outputId": "600ad6ec-56cb-469a-d15c-38a0e02a1a5e"
      },
      "execution_count": 13,
      "outputs": [
        {
          "output_type": "stream",
          "name": "stdout",
          "text": [
            "Hem's average grade: 86.25\n",
            "Amit's average grade: 71.67\n"
          ]
        }
      ]
    },
    {
      "cell_type": "code",
      "source": [
        "# 13. Create a class Rectangle with methods set_dimensions() to set the dimensions and area() to calculate the area.\n",
        "class Rectangle:\n",
        "    def __init__(self):\n",
        "        self.length = 0\n",
        "        self.width = 0\n",
        "\n",
        "    def set_dimensions(self, length, width):\n",
        "        self.length = length\n",
        "        self.width = width\n",
        "\n",
        "    def area(self):\n",
        "        return self.length * self.width\n",
        "\n",
        "rect = Rectangle()\n",
        "rect.set_dimensions(10, 5)\n",
        "print(\"Area of rectangle:\", rect.area())\n"
      ],
      "metadata": {
        "colab": {
          "base_uri": "https://localhost:8080/"
        },
        "id": "AC1rkuw2T9vz",
        "outputId": "1b930fc5-64b7-4a3d-b9f3-85b657b12521"
      },
      "execution_count": 14,
      "outputs": [
        {
          "output_type": "stream",
          "name": "stdout",
          "text": [
            "Area of rectangle: 50\n"
          ]
        }
      ]
    },
    {
      "cell_type": "code",
      "source": [
        "# 14. Create a class Employee with a method calculate_salary() that computes the salary based on hours worked and hourly rate. Create a derived class Manager that adds a bonus to the salary.\n",
        "class Employee:\n",
        "    def __init__(self, name, hours_worked, hourly_rate):\n",
        "        self.name = name\n",
        "        self.hours_worked = hours_worked\n",
        "        self.hourly_rate = hourly_rate\n",
        "\n",
        "    def calculate_salary(self):\n",
        "        return self.hours_worked * self.hourly_rate\n",
        "\n",
        "\n",
        "# Derived class\n",
        "class Manager(Employee):\n",
        "    def __init__(self, name, hours_worked, hourly_rate, bonus):\n",
        "        super().__init__(name, hours_worked, hourly_rate)  # call Employee constructor\n",
        "        self.bonus = bonus\n",
        "\n",
        "    def calculate_salary(self):\n",
        "        base_salary = super().calculate_salary()  # use Employee's method\n",
        "        return base_salary + self.bonus\n",
        "\n",
        "\n",
        "# Testing\n",
        "emp = Employee(\"Hem\", 40, 50)\n",
        "mgr = Manager(\"Amit\", 40, 50, 5000)\n",
        "print(f\"{emp.name}'s Salary: {emp.calculate_salary()}\")\n",
        "print(f\"{mgr.name}'s Salary: {mgr.calculate_salary()}\")\n"
      ],
      "metadata": {
        "colab": {
          "base_uri": "https://localhost:8080/"
        },
        "id": "Py5IdvnwUGrv",
        "outputId": "a3e5eb8e-56b8-485a-f6cb-c04d1c5ae9af"
      },
      "execution_count": 15,
      "outputs": [
        {
          "output_type": "stream",
          "name": "stdout",
          "text": [
            "Hem's Salary: 2000\n",
            "Amit's Salary: 7000\n"
          ]
        }
      ]
    }
  ]
}