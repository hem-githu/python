{
  "nbformat": 4,
  "nbformat_minor": 0,
  "metadata": {
    "colab": {
      "provenance": [],
      "authorship_tag": "ABX9TyPtfJbtrIwfXphLGorx47Gs",
      "include_colab_link": true
    },
    "kernelspec": {
      "name": "python3",
      "display_name": "Python 3"
    },
    "language_info": {
      "name": "python"
    }
  },
  "cells": [
    {
      "cell_type": "markdown",
      "metadata": {
        "id": "view-in-github",
        "colab_type": "text"
      },
      "source": [
        "<a href=\"https://colab.research.google.com/github/hem-githu/python/blob/main/Data_Types_and_Structures_Assignment.ipynb\" target=\"_parent\"><img src=\"https://colab.research.google.com/assets/colab-badge.svg\" alt=\"Open In Colab\"/></a>"
      ]
    },
    {
      "cell_type": "markdown",
      "source": [
        "# Data Types and Structures - Assignment-Hem Pandey\n",
        "\n",
        "1. What are data structures, and why are they important?\n",
        "\n",
        "**Ans.**  Data structures are systematic ways of organizing, storing, and managing data in a computer so it can be accessed and modified efficiently. helps in handle data logically & effectively.\n",
        "\n",
        "**Data structures are important because:**\n",
        "- Efficient Problem Solving: Choosing the right data structure can drastically reduce time and space complexity. For example, searching in a hash table(Dictionary) is faster than scanning a list.\n",
        "- Better Algorithms: Algorithms operate on data structures. Understanding both helps you design smarter solutions.\n",
        "- Performance Optimization: They help you write code that runs faster and uses less memory.\n",
        "- Modular Thinking: They encourage breaking down complex problems into manageable parts\n",
        "\n",
        "2. Explain the difference between mutable and immutable data types with examples?\n",
        "\n",
        "**Ans.** Mutable Data Types: These can be changed after creation. You can modify, add, or remove elements without creating a new object.\n",
        "Examples:\n",
        "- List\n",
        "- Dictionary\n",
        "- Set\n",
        "- User-defined classes (by default)\n",
        "\n",
        "Immutable Data Type: These cannot be changed once created. Any operation that seems to modify them actually creates a new object. **Immutability enables hashability, and hashability enables fast lookup in sets and dictionaries**. Examples:\n",
        "- Integer\n",
        "- Float\n",
        "- String\n",
        "- Tuple\n",
        "- Boolean\n",
        "- frozenset\n",
        "\n",
        "3.  What are the main differences between lists and tuples in Python?\n",
        "\n",
        "**Ans.**\n",
        "Lists and tuples are both ways to store multiple items in Python, but they behave differently.\n",
        "- A list is mutable, which means you can change it after it's created. You can add, remove, or modify elements. Lists use square brackets like [1, 2, 3]. Methods Available are rich set (append, pop, etc.)\n",
        "\n",
        "- A tuple is immutable, which means once it's created, you can't change it. You can't add or remove items. Tuples use round brackets like (1, 2, 3). Methods Available are limited (count, index).\n",
        "\n",
        "Lists are better when the data might change. Tuples are better when the data should stay constant or be used as a key in a dictionary.\n",
        "\n",
        "4. Describe how dictionaries store data?\n",
        "\n",
        "**Ans.** A dictionary in Python stores data as key-value pairs. Each key is unique and points to a specific value. Behind the scenes, Python uses a hash table to manage this.\n",
        "Hash table working:\n",
        "- Hashing the Key: When you add a key, Python runs a hash function on it to get a number (called a hash value).\n",
        "- Finding a Slot: That number tells Python where to store the value in memory—like a slot in an array.\n",
        "- Storing the Pair: Python places the key and its value in that slot.\n",
        "- Fast Lookup: When you ask for the value using the key, Python hashes it again and jumps straight to the slot—making it super fast.\n",
        "\n",
        "\n",
        "5. Why might you use a set instead of a list in Python?\n",
        "\n",
        "**Ans.** Set might be better in below cases:\n",
        "- No duplicates allowed: If we add the same item twice, it keeps only one.\n",
        "- Faster lookups: Checking if an item exists in a set is quicker than in a list.\n",
        "- Mathematical operations: Sets support union, intersection, and difference—handy for comparing datasets.\n",
        "So if cleaning up data, comparing categories, or building toggles where uniqueness matters, sets are a smart choice.\n",
        "\n",
        "\n",
        "6. What is a string in Python, and how is it different from a list?\n",
        "\n",
        "**Ans.** A string in Python is a sequence of characters—like letters, numbers, or symbols—used to represent text.\n",
        "\n",
        "A list, on the other hand, is a sequence of items that can be of any type—not just characters. Lists are written with square brackets, like [1, 2, 3] or [\"Mono\", \"Poly\"].\n",
        "**Key Differences:**\n",
        "- Mutability: Strings are immutable—can't change them after creation. Lists are mutable—you can add, remove, or modify items.\n",
        "- Data type flexibility: Strings only hold characters. Lists can hold numbers, strings, other lists, or even mixed types.\n",
        "- Methods: Strings have methods like .upper() or .replace(). Lists have methods like .append() or .pop().\n",
        "\n",
        "\n",
        "7.  How do tuples ensure data integrity in Python?\n",
        "\n",
        "**Ans.** Tuples ensure data integrity in Python by being immutable—once a tuple is created, its contents cannot be changed. This means:\n",
        "-  can't add, remove, or modify elements.\n",
        "- The data stays exactly as it was defined, which prevents accidental changes.\n",
        "- Tuples can be used as dictionary keys or stored in sets, because their values are guaranteed not to change.\n",
        "\n",
        "\n",
        "8.  What is a hash table, and how does it relate to dictionaries in Python?\n",
        "\n",
        "**Ans.** A hash table is a data structure that stores key-value pairs using a hashing mechanism to enable fast access, insertion, and deletion. It’s the engine behind Python’s dictionaries. Working:\n",
        "- Hashing the Key: Python runs a hash function on the key to get a unique number—called a hash value.\n",
        "- Indexing: That number maps to a slot in an internal array.\n",
        "- Storing the Pair: Python stores the key and its associated value in that slot.\n",
        "- Retrieving: When ask for the value using the key, Python hashes it again and jumps directly to the slot.\n",
        "\n",
        "Keys must be hashable (immutable types like strings, numbers, tuples).Sets also use hash tables—but they store only keys (no values). Make them fast for membership checks.\n",
        "\n",
        "9.   Can lists contain different data types in Python?\n",
        "\n",
        "**Ans.** Yes, lists contain different data types in Python. Example: string,An integer, boolean, float, Another list, dictionary.\n",
        "\n",
        "10.    Explain why strings are immutable in Python?\n",
        "\n",
        "**Ans.** Strings are immutable in Python because it ensures:\n",
        "- Data integrity:prevents accidental modifications—especially useful when strings are used as keys in dictionaries or elements in sets, which require hashable (immutable) types.\n",
        "\n",
        "- Performance:Because they’re immutable, Python can reuse existing string objects instead of creating new ones—this is called string interning.\n",
        "\n",
        "- Security:In multi-threaded environments, immutable objects are safer because they can’t be changed by another thread unexpectedly.\n",
        "- Hashability for Fast Lookup: Immutable strings can be hashed reliably. That’s why use them as dictionary keys or set elements.\n",
        "\n",
        "\n",
        "11.  What advantages do dictionaries offer over lists for certain tasks?\n",
        "\n",
        "**Ans.** Dictionaries offer several advantages over lists when tasks involve key-based access, structured data, and fast lookups.\n",
        "\n",
        "- key-based access: Dictionaries retrieve values using meaningful keys instead of numeric indices. With lists, need to know the index.\n",
        "- Structured Data: Dictionaries allow to pair related data.\n",
        "- Faster Lookups: Dictionaries use hash tables, so lookups are fast. Lists require time to search.\n",
        "\n",
        "12.   Describe a scenario where using a tuple would be preferable over a list?\n",
        "\n",
        "**Ans.** building a dictionary to store GST charges for each state and items. You want to use a composite key like (state, item_name).\n",
        "code: gst_charges = {\n",
        "    (\"Maharashtra\", \"soap\"): 0.05,\n",
        "    (\"Gujarat\", \"toy\"): 0.1\n",
        "}\n",
        "**This structure lets you:**\n",
        "- Ensure the key stays fixed (no accidental edits).\n",
        "- Use fast hash-based lookups.\n",
        "- Maintain data integrity across toggles and filters.\n",
        "\n",
        "13. How do sets handle duplicate values in Python?\n",
        "\n",
        "**Ans.** When we add elements to a set:\n",
        "- Python uses the hash value of each item to determine its uniqueness.\n",
        "- If an item with the same hash and equality already exists, it’s ignored—not added again.\n",
        "\n",
        "14.  How does the “in” keyword work differently for lists and dictionaries?\n",
        "\n",
        "**Ans.** The in keyword behaves differently for lists and dictionaries because it checks membership in different ways:\n",
        "- Python scans the list sequentially.\n",
        "- Python checks if the key exists in the dictionary.\n",
        "\n",
        "15.   Can you modify the elements of a tuple? Explain why or why not?\n",
        "\n",
        "**Ans.** We cannot modify the elements of a tuple in Python. Tuples Are Immutable because:\n",
        "- Design Intent to epresent fixed collections of items that ensures consistency and reliability.\n",
        "\n",
        "- Hashability: they can be used as - Dictionary keys, Set elements, identifiers\n",
        "\n",
        "\n",
        "16.    What is a nested dictionary, and give an example of its use case?\n",
        "\n",
        "**Ans.** A nested dictionary in Python is a dictionary where values themselves are dictionaries. It’s like a multi-level data structure—perfect for organizing complex, structured data.\n",
        "***Use case:***\n",
        "electricity_charges = {\n",
        "    \"Maharashtra\": {\n",
        "        \"commercial\": 10.05,\n",
        "        \"Residential\": 5.07\n",
        "    },\n",
        "    \"Gujarat\": {\n",
        "        \"commercial\": 12.05,\n",
        "        \"Residential\": 6.07\n",
        "    }\n",
        "}\n",
        "\n",
        "Nested dictionaries gives clarity, modularity, and fast access—perfect for building toggleable models and compliance matrices.\n",
        "\n",
        "17.     Describe the time complexity of accessing elements in a dictionary?\n",
        "\n",
        "**Ans.** Time require of Dictionary Access in Python is very fast because:\n",
        "- Python hashes the key to get a memory index.\n",
        "- It jumps directly to that slot—no need to scan the whole dictionary.\n",
        "- If multiple keys hash to the same slot (collision), Python checks equality to find the right one.\n",
        "\n",
        "\n",
        "18.   In what situations are lists preferred over dictionaries?\n",
        "\n",
        "**Ans.** Dictionaries offer fast key-based access, lists are preferred in scenarios where order, iteration, and simplicity matter more than key-value mapping.\n",
        "***Situations Where Lists Are Preferred:***\n",
        "-Ordered Sequences:Lists preserve the order of elements\n",
        "- Simple Collections Without Keys: make list cleaner\n",
        "- Index-Based Access:Lists allow access by position while iterating through ordered steps.\n",
        "- Appending and Sorting\n",
        "- Homogeneous Data Processing\n",
        "\n",
        "19.   Why are dictionaries considered unordered, and how does that affect data retrieva?\n",
        "\n",
        "**Ans.** Python dictionaries were unordered because:\n",
        "- They were implemented using hash tables, which prioritize fast access over element order.\n",
        "- Keys were stored based on their hash values, not insertion sequence.\n",
        "***Affects on Data Retrieval:***\n",
        "- Key Lookup: fast—order doesn’t matter.\n",
        "- Iteration: reflects insertion order\n",
        "- No Positional Indexing:\n",
        "\n",
        "\n",
        "20.    Explain the difference between a list and a dictionary in terms of data retrieval?\n",
        "\n",
        "**Ans.**In a list, retrieve data by its position using an index. For example, if you have a list of module types like [\"Mono\", \"Poly\"], and for first item, use list[0]. This means Python has to count through the list to find the item, which takes more time as the list grows—especially if searching by value.\n",
        "\n",
        "In a dictionary, you retrieve data using a key. So if you have a dictionary like {\"toy\": 325, \"tv\": 28000}, and want the cost of tv, use dict[\"tv\"]. This is much faster because Python uses a hash table to jump straight to the value—no scanning required.\n",
        "\n",
        "To sum it up: lists are great when you care about order or need to process items one by one. Dictionaries are better when you want fast access to specific values using meaningful labels.\n",
        "\n",
        "\n",
        "\n",
        "\n",
        "\n",
        "\n",
        "\n",
        "\n"
      ],
      "metadata": {
        "id": "6rNqqWKm9bpb"
      }
    },
    {
      "cell_type": "code",
      "source": [
        "# Practical Questions\n",
        "#1. Write a code to create a string with your name and print it\n",
        "str= \"Hem Pandey\"\n",
        "print(str)"
      ],
      "metadata": {
        "colab": {
          "base_uri": "https://localhost:8080/"
        },
        "id": "QmCzqV6z6zbM",
        "outputId": "8d3a78a4-eb1a-4745-c248-e05fa9dc4624"
      },
      "execution_count": 1,
      "outputs": [
        {
          "output_type": "stream",
          "name": "stdout",
          "text": [
            "Hem Pandey\n"
          ]
        }
      ]
    },
    {
      "cell_type": "code",
      "source": [
        "#2. Write a code to find the length of the string \"Hello World\"\n",
        "str=\"Hello World\"\n",
        "c=0\n",
        "for i in str:\n",
        "  c=c+1\n",
        "print(f\"string length is: {c}\" )"
      ],
      "metadata": {
        "colab": {
          "base_uri": "https://localhost:8080/"
        },
        "id": "tGDIKa2FMCz3",
        "outputId": "dcef4872-c30a-403f-dd91-1f39bcd4e23c"
      },
      "execution_count": 2,
      "outputs": [
        {
          "output_type": "stream",
          "name": "stdout",
          "text": [
            "string length is: 11\n"
          ]
        }
      ]
    },
    {
      "cell_type": "code",
      "source": [
        "#3.Write a code to slice the first 3 characters from the string \"Python Programming\"\n",
        "str=\"Python Programming\"\n",
        "print(\"slice the first 3 characters from Python Programming:\",str[0:3:])"
      ],
      "metadata": {
        "colab": {
          "base_uri": "https://localhost:8080/"
        },
        "id": "MSknKu79MdCO",
        "outputId": "f0d1391a-cb79-40e0-9584-6da39ac4afe2"
      },
      "execution_count": 6,
      "outputs": [
        {
          "output_type": "stream",
          "name": "stdout",
          "text": [
            "slice the first 3 characters from Python Programming: Pyt\n"
          ]
        }
      ]
    },
    {
      "cell_type": "code",
      "source": [
        "#4. Write a code to convert the string \"hello\" to uppercase\n",
        "str=\"hello\"\n",
        "print(\"upper case:\",str.upper())"
      ],
      "metadata": {
        "colab": {
          "base_uri": "https://localhost:8080/"
        },
        "id": "ZLgeDlgINEJw",
        "outputId": "fcb8161b-9c54-40c3-cdbe-309ad74986bc"
      },
      "execution_count": 9,
      "outputs": [
        {
          "output_type": "stream",
          "name": "stdout",
          "text": [
            "upper case: HELLO\n"
          ]
        }
      ]
    },
    {
      "cell_type": "code",
      "source": [
        "#5.  Write a code to replace the word \"apple\" with \"orange\" in the string \"I like apple\n",
        "str= \"I like apple\"\n",
        "strn=str[0:7:]+\"orange\"  #new str required bec string are immutable\n",
        "print(strn)"
      ],
      "metadata": {
        "colab": {
          "base_uri": "https://localhost:8080/"
        },
        "id": "TKqfSAFPNkRj",
        "outputId": "330dff5b-361f-44cf-e605-01065a647244"
      },
      "execution_count": 13,
      "outputs": [
        {
          "output_type": "stream",
          "name": "stdout",
          "text": [
            "I like orange\n"
          ]
        }
      ]
    },
    {
      "cell_type": "code",
      "source": [
        "#6.  Write a code to create a list with numbers 1 to 5 and print it\n",
        "lst=[range(1,6)]\n",
        "for i in lst[0]:  #range(1,6) act as 1 single item for list, so to retrive use index\n",
        "  print (i, end=' ')"
      ],
      "metadata": {
        "colab": {
          "base_uri": "https://localhost:8080/"
        },
        "id": "xdfFPQsaO_aO",
        "outputId": "957ad589-6550-4bcf-9e0d-f374b89693c2"
      },
      "execution_count": 20,
      "outputs": [
        {
          "output_type": "stream",
          "name": "stdout",
          "text": [
            "1 2 3 4 5 "
          ]
        }
      ]
    },
    {
      "cell_type": "code",
      "source": [
        "#7.Write a code to append the number 10 to the list [1, 2, 3, 4]\n",
        "lis= [1, 2, 3, 4]\n",
        "lis.append(10)\n",
        "print(lis)"
      ],
      "metadata": {
        "colab": {
          "base_uri": "https://localhost:8080/"
        },
        "id": "WAtCGAS6RkcQ",
        "outputId": "af447dd7-d4ec-42a8-b70a-3859e1b4bd6b"
      },
      "execution_count": 23,
      "outputs": [
        {
          "output_type": "stream",
          "name": "stdout",
          "text": [
            "[1, 2, 3, 4, 10]\n"
          ]
        }
      ]
    },
    {
      "cell_type": "code",
      "source": [
        "#8. Write a code to remove the number 3 from the list [1, 2, 3, 4, 5]\n",
        "lis= [1, 2, 3, 4,5]\n",
        "lis.pop()\n",
        "lis"
      ],
      "metadata": {
        "colab": {
          "base_uri": "https://localhost:8080/"
        },
        "id": "-4cbci9gSMP1",
        "outputId": "107514c1-82c9-4544-cdf8-c3ea6cdea4dc"
      },
      "execution_count": 25,
      "outputs": [
        {
          "output_type": "execute_result",
          "data": {
            "text/plain": [
              "[1, 2, 3, 4]"
            ]
          },
          "metadata": {},
          "execution_count": 25
        }
      ]
    },
    {
      "cell_type": "code",
      "source": [
        "#9. Write a code to access the second element in the list ['a', 'b', 'c', 'd']\n",
        "lis= ['a', 'b', 'c', 'd']\n",
        "print(lis[1])"
      ],
      "metadata": {
        "colab": {
          "base_uri": "https://localhost:8080/"
        },
        "id": "H6Uclqi_Sbm0",
        "outputId": "5c56d5a3-4323-476d-b6be-c37734b5d820"
      },
      "execution_count": 28,
      "outputs": [
        {
          "output_type": "stream",
          "name": "stdout",
          "text": [
            "b\n"
          ]
        }
      ]
    },
    {
      "cell_type": "code",
      "source": [
        "#10. Write a code to reverse the list [10, 20, 30, 40, 50].\n",
        "lis= [10, 20, 30, 40, 50]\n",
        "print(lis[::-1])"
      ],
      "metadata": {
        "colab": {
          "base_uri": "https://localhost:8080/"
        },
        "id": "vlG_DQGBUG2X",
        "outputId": "0e99ed2d-1966-4790-896a-908a5cf4feb6"
      },
      "execution_count": 30,
      "outputs": [
        {
          "output_type": "stream",
          "name": "stdout",
          "text": [
            "[50, 40, 30, 20, 10]\n"
          ]
        }
      ]
    },
    {
      "cell_type": "code",
      "source": [
        "#11. Write a code to create a tuple with the elements 100, 200, 300 and print it.\n",
        "tup=(100,200,300)\n",
        "print(tup)"
      ],
      "metadata": {
        "colab": {
          "base_uri": "https://localhost:8080/"
        },
        "id": "ekMYO8ggUV-f",
        "outputId": "a3c79782-0bdd-45a0-a1bc-9a6fa5817193"
      },
      "execution_count": 31,
      "outputs": [
        {
          "output_type": "stream",
          "name": "stdout",
          "text": [
            "(100, 200, 300)\n"
          ]
        }
      ]
    },
    {
      "cell_type": "code",
      "source": [
        "#12. Write a code to access the second-to-last element of the tuple ('red', 'green', 'blue', 'yellow').\n",
        "tup= ('red', 'green', 'blue', 'yellow')\n",
        "print(tup[-2])"
      ],
      "metadata": {
        "colab": {
          "base_uri": "https://localhost:8080/"
        },
        "id": "QEi_anCJUlig",
        "outputId": "75f130cd-96de-4849-98ca-ea3e4a15f499"
      },
      "execution_count": 33,
      "outputs": [
        {
          "output_type": "stream",
          "name": "stdout",
          "text": [
            "blue\n"
          ]
        }
      ]
    },
    {
      "cell_type": "code",
      "source": [
        "#13. Write a code to find the minimum number in the tuple (10, 20, 5, 15).\n",
        "tup= (10, 20, 5, 15)\n",
        "print(min(tup))\n"
      ],
      "metadata": {
        "colab": {
          "base_uri": "https://localhost:8080/"
        },
        "id": "FO-sf3_fU-di",
        "outputId": "e388cf80-6803-4fcb-abe8-6fd8f56f729f"
      },
      "execution_count": 34,
      "outputs": [
        {
          "output_type": "stream",
          "name": "stdout",
          "text": [
            "5\n"
          ]
        }
      ]
    },
    {
      "cell_type": "code",
      "source": [
        "#14. Write a code to find the index of the element \"cat\" in the tuple ('dog', 'cat', 'rabbit').\n",
        "tup= ('dog', 'cat', 'rabbit')\n",
        "print(tup.index(\"cat\"))\n"
      ],
      "metadata": {
        "colab": {
          "base_uri": "https://localhost:8080/"
        },
        "id": "h_W6DSx9VNZh",
        "outputId": "d7892506-8a77-4209-e10b-87e8e181ba68"
      },
      "execution_count": 36,
      "outputs": [
        {
          "output_type": "stream",
          "name": "stdout",
          "text": [
            "1\n"
          ]
        }
      ]
    },
    {
      "cell_type": "code",
      "source": [
        "#15. Write a code to create a tuple containing three different fruits and check if \"kiwi\" is in it.\n",
        "tup=('apple','mango','kiwi')\n",
        "if 'kiwi' in tup:\n",
        "    print('kiwi is in tuple')\n",
        "else:\n",
        "    print(\"kiwi is not in tuple\")"
      ],
      "metadata": {
        "colab": {
          "base_uri": "https://localhost:8080/"
        },
        "id": "F_8lwESEWOpo",
        "outputId": "7247a470-3adb-4aab-d972-73bf2adf068a"
      },
      "execution_count": 41,
      "outputs": [
        {
          "output_type": "stream",
          "name": "stdout",
          "text": [
            "kiwi is in tuple\n"
          ]
        }
      ]
    },
    {
      "cell_type": "code",
      "source": [
        "#16. Write a code to create a set with the elements 'a', 'b', 'c' and print it.\n",
        "s={'a', 'b', 'c'}\n",
        "print(list(i for i in s))"
      ],
      "metadata": {
        "colab": {
          "base_uri": "https://localhost:8080/"
        },
        "id": "jhI1ULKtXsvF",
        "outputId": "c4791d64-d834-4759-bcb3-d37dcbbe083e"
      },
      "execution_count": 43,
      "outputs": [
        {
          "output_type": "stream",
          "name": "stdout",
          "text": [
            "['c', 'a', 'b']\n"
          ]
        }
      ]
    },
    {
      "cell_type": "code",
      "source": [
        "# 17. Write a code to clear all elements from the set {1, 2, 3, 4, 5}.\n",
        "s={1, 2, 3, 4, 5}\n",
        "s.clear()\n",
        "s"
      ],
      "metadata": {
        "colab": {
          "base_uri": "https://localhost:8080/"
        },
        "id": "qo3KSnF8Y3Qi",
        "outputId": "50c1ab99-77ec-4086-b7b0-cd39de537fa7"
      },
      "execution_count": 45,
      "outputs": [
        {
          "output_type": "execute_result",
          "data": {
            "text/plain": [
              "set()"
            ]
          },
          "metadata": {},
          "execution_count": 45
        }
      ]
    },
    {
      "cell_type": "code",
      "source": [
        "#18. Write a code to remove the element 4 from the set {1, 2, 3, 4}.\n",
        "s={1, 2, 3, 4}\n",
        "s.remove(4)\n",
        "print (s)"
      ],
      "metadata": {
        "colab": {
          "base_uri": "https://localhost:8080/"
        },
        "id": "Xn5GUk5gZMs7",
        "outputId": "f4458ea8-6f5e-4b4c-d2c2-8bb14d484078"
      },
      "execution_count": 47,
      "outputs": [
        {
          "output_type": "stream",
          "name": "stdout",
          "text": [
            "{1, 2, 3}\n"
          ]
        }
      ]
    },
    {
      "cell_type": "code",
      "source": [
        " #19. Write a code to find the union of two sets {1, 2, 3} and {3, 4, 5}.\n",
        " s1={1,2,3}\n",
        " s2={3,4,5}\n",
        " print(\"union of sets\",s1 | s2) # or s1.union(s2)"
      ],
      "metadata": {
        "colab": {
          "base_uri": "https://localhost:8080/"
        },
        "id": "DCZcDvbRZy6M",
        "outputId": "51a5f393-376c-45c0-eb2b-90bbed9b9554"
      },
      "execution_count": 52,
      "outputs": [
        {
          "output_type": "stream",
          "name": "stdout",
          "text": [
            "union of sets {1, 2, 3, 4, 5}\n"
          ]
        }
      ]
    },
    {
      "cell_type": "code",
      "source": [
        "#20. Write a code to find the intersection of two sets {1, 2, 3} and {2, 3, 4}.\n",
        "s1={1,2,3}\n",
        "s2={2,3,4}\n",
        "print(\"intersection of sets\",s1.intersection(s2))"
      ],
      "metadata": {
        "colab": {
          "base_uri": "https://localhost:8080/"
        },
        "id": "-NgeZrWPahfe",
        "outputId": "9fa5d84e-7d73-43c3-9d18-b1e7cf7fd095"
      },
      "execution_count": 54,
      "outputs": [
        {
          "output_type": "stream",
          "name": "stdout",
          "text": [
            "intersection of sets {2, 3}\n"
          ]
        }
      ]
    },
    {
      "cell_type": "code",
      "source": [
        "#21. Write a code to create a dictionary with the keys \"name\", \"age\", and \"city\", and print it.\n",
        "d={'name':'Hem', 'Age':28, 'city':'delhi'}\n",
        "print(d)"
      ],
      "metadata": {
        "colab": {
          "base_uri": "https://localhost:8080/"
        },
        "id": "wIfs_HpibkNr",
        "outputId": "d8bc3678-dd65-4fa0-b7c9-b8337755eb4a"
      },
      "execution_count": 60,
      "outputs": [
        {
          "output_type": "stream",
          "name": "stdout",
          "text": [
            "{'name': 'Hem', 'Age': 28, 'city': 'delhi'}\n"
          ]
        }
      ]
    },
    {
      "cell_type": "code",
      "source": [
        "#22. Write a code to add a new key-value pair \"country\": \"USA\" to the dictionary {'name': 'John', 'age': 25}\n",
        "d= {'name': 'John', 'age': 25}\n",
        "d[\"country\"]= \"USA\"\n",
        "print(d)"
      ],
      "metadata": {
        "colab": {
          "base_uri": "https://localhost:8080/"
        },
        "id": "Hn0BsYyvccMP",
        "outputId": "e84b28c1-9210-4665-e2b6-decde9428694"
      },
      "execution_count": 62,
      "outputs": [
        {
          "output_type": "stream",
          "name": "stdout",
          "text": [
            "{'name': 'John', 'age': 25, 'country': 'USA'}\n"
          ]
        }
      ]
    },
    {
      "cell_type": "code",
      "source": [
        "#23. Write a code to access the value associated with the key \"name\" in the dictionary {'name': 'Alice', 'age': 30}.\n",
        "d= {'name': 'Alice', 'age': 30}\n",
        "print(d[\"name\"])"
      ],
      "metadata": {
        "colab": {
          "base_uri": "https://localhost:8080/"
        },
        "id": "DsfukaBgc-Da",
        "outputId": "5b40c85c-6a39-4311-9e52-5829a4dbc41d"
      },
      "execution_count": 64,
      "outputs": [
        {
          "output_type": "stream",
          "name": "stdout",
          "text": [
            "Alice\n"
          ]
        }
      ]
    },
    {
      "cell_type": "code",
      "source": [
        "#24. Write a code to remove the key \"age\" from the dictionary {'name': 'Bob', 'age': 22, 'city': 'New York'}.\n",
        "d= {'name': 'Bob', 'age': 22, 'city': 'New York'}\n",
        "d.pop('age')  #pop remove key not value d['age'] give value\n",
        "d"
      ],
      "metadata": {
        "colab": {
          "base_uri": "https://localhost:8080/"
        },
        "id": "0a2qNH9ieRGH",
        "outputId": "6afe3687-5d5a-4c38-bfa3-43e4ed6df8c1"
      },
      "execution_count": 68,
      "outputs": [
        {
          "output_type": "execute_result",
          "data": {
            "text/plain": [
              "{'name': 'Bob', 'city': 'New York'}"
            ]
          },
          "metadata": {},
          "execution_count": 68
        }
      ]
    },
    {
      "cell_type": "code",
      "source": [
        "# 25. Write a code to check if the key \"city\" exists in the dictionary {'name': 'Alice', 'city': 'Paris'}.\n",
        "d= {'name': 'Alice', 'city': 'Paris'}\n",
        "print(\"city exist\" if \"city\" in d else \"not exist\")"
      ],
      "metadata": {
        "colab": {
          "base_uri": "https://localhost:8080/"
        },
        "id": "uqL1N5pVfUH0",
        "outputId": "9a383c9a-5e3c-4c6e-a81d-c29d8c7ca32b"
      },
      "execution_count": 71,
      "outputs": [
        {
          "output_type": "stream",
          "name": "stdout",
          "text": [
            "city exist\n"
          ]
        }
      ]
    },
    {
      "cell_type": "code",
      "source": [
        "# 26. Write a code to create a list, a tuple, and a dictionary, and print them all.\n",
        "lst=[1,2,3]\n",
        "t1=(4,5,6)\n",
        "d={'a':7,'b':8,'c':9}\n",
        "print(\"List, Tuple, Dictionary: \",lst,t1,d)"
      ],
      "metadata": {
        "colab": {
          "base_uri": "https://localhost:8080/"
        },
        "id": "p5iwDISigh0D",
        "outputId": "4957125c-43ec-4f29-8656-1da16d84a5f2"
      },
      "execution_count": 75,
      "outputs": [
        {
          "output_type": "stream",
          "name": "stdout",
          "text": [
            "List, Tuple, Dictionary:  [1, 2, 3] (4, 5, 6) {'a': 7, 'b': 8, 'c': 9}\n"
          ]
        }
      ]
    },
    {
      "cell_type": "code",
      "source": [
        "# 27. Write a code to create a list of 5 random numbers between 1 and 100, sort it in ascending order, and print the result(replaced)\n",
        "import random\n",
        "lst = random.sample(range(1, 101), 5)\n",
        "print(\"random list:\",lst)\n",
        "lst.sort()\n",
        "print(\"Sorted list:\", lst)\n"
      ],
      "metadata": {
        "colab": {
          "base_uri": "https://localhost:8080/"
        },
        "id": "TnFpsYjwhXXi",
        "outputId": "b4a32cb6-fb48-4300-a2ea-4b7fd56ebbee"
      },
      "execution_count": 79,
      "outputs": [
        {
          "output_type": "stream",
          "name": "stdout",
          "text": [
            "random list: [99, 9, 55, 34, 18]\n",
            "Sorted list: [9, 18, 34, 55, 99]\n"
          ]
        }
      ]
    },
    {
      "cell_type": "code",
      "source": [
        "#28. Write a code to create a list with strings and print the element at the third index.\n",
        "lst=['yoga', 'rahul','match', 'fun']\n",
        "print(\"Element at third index:\",lst[2])"
      ],
      "metadata": {
        "colab": {
          "base_uri": "https://localhost:8080/"
        },
        "id": "HYMJO5oziMbQ",
        "outputId": "bf6ec4fa-73fc-4019-a509-0facce6f69a5"
      },
      "execution_count": 81,
      "outputs": [
        {
          "output_type": "stream",
          "name": "stdout",
          "text": [
            "Element at third index: match\n"
          ]
        }
      ]
    },
    {
      "cell_type": "code",
      "source": [
        "# 29. Write a code to combine two dictionaries into one and print the result.\n",
        "d1={'a':7,'b':8,'c':9}\n",
        "d2={'name':'Hem', 'Age':28, 'city':'delhi'}\n",
        "d1.update(d2)\n",
        "d1"
      ],
      "metadata": {
        "colab": {
          "base_uri": "https://localhost:8080/"
        },
        "id": "ILM6cMdDil22",
        "outputId": "fe0cecfb-41d5-4167-a578-d1e8c00fa121"
      },
      "execution_count": 87,
      "outputs": [
        {
          "output_type": "execute_result",
          "data": {
            "text/plain": [
              "{'a': 7, 'b': 8, 'c': 9, 'name': 'Hem', 'Age': 28, 'city': 'delhi'}"
            ]
          },
          "metadata": {},
          "execution_count": 87
        }
      ]
    },
    {
      "cell_type": "code",
      "source": [
        "#30. Write a code to convert a list of strings into a set.\n",
        "lst=['yoga', 'rahul','match', 'yoga']\n",
        "s=set(lst)\n",
        "s"
      ],
      "metadata": {
        "colab": {
          "base_uri": "https://localhost:8080/"
        },
        "id": "X1d8FBhmjioq",
        "outputId": "0a6e7295-4f2b-4dff-ff7c-85b0adbb42f7"
      },
      "execution_count": 89,
      "outputs": [
        {
          "output_type": "execute_result",
          "data": {
            "text/plain": [
              "{'match', 'rahul', 'yoga'}"
            ]
          },
          "metadata": {},
          "execution_count": 89
        }
      ]
    }
  ]
}