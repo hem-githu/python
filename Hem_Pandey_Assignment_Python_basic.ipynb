{
  "nbformat": 4,
  "nbformat_minor": 0,
  "metadata": {
    "colab": {
      "provenance": []
    },
    "kernelspec": {
      "name": "python3",
      "display_name": "Python 3"
    },
    "language_info": {
      "name": "python"
    }
  },
  "cells": [
    {
      "cell_type": "markdown",
      "source": [
        "# Assignment: Python Basics Questions\n",
        "\n",
        "\n",
        "\n",
        "1. What is Python, and why is it popular?\n",
        "\n",
        "Ans. Python is a high-level, interpreted programming language known for its simplicity, readability, and versatility.\n",
        "\n",
        "**Core Features of Python**\n",
        "Readable Syntax,\n",
        "Dynamic Typing,\n",
        "Multi-Paradigm,\n",
        "Cross-Platform,\n",
        "Extensive Libraries.\n",
        "\n",
        "**Reasons Python Is So Popular**:\n",
        "\n",
        "\n",
        "*   Simplicity & Readability:Python’s syntax is clean and intuitive—almost like\n",
        "writing in English.\n",
        "*   Versatility Across Domains:Used in web development, data science, machine learning, automation, IoT, and more.\n",
        "*   Massive Ecosystem:Libraries like NumPy, Pandas, TensorFlow, Flask, and Django make it powerful out of the box.\n",
        "*   Beginner-Friendly:Ideal for first-time coders and non-programmers.\n",
        "\n",
        "*   Strong Community Support:Millions of developers contribute tutorials, packages, and forums.\n",
        "*   Industry Adoption:Used by companies like Google, YouTube, NASA, and Netflix.\n",
        "\n",
        "\n",
        "2. What is an interpreter in Python?\n",
        "\n",
        "Ans. An interpreter in Python is the program that reads your code and executes it line by line, translating it into actions your computer can understand. It’s what makes Python an interpreted language, rather than a compiled one like C or Java.\n",
        "\n",
        "3. What are pre-defined keywords in Python?\n",
        "\n",
        "Ans. In Python, pre-defined keywords are special reserved words that have fixed meanings and are part of the language's syntax. We cannot use them as variable names, function names, or identifiers. example: if, else, elif, for, while, break, continue, pass.\n",
        "\n",
        "4. Can keywords be used as variable names?\n",
        "\n",
        "Ans. Nope—Python keywords cannot be used as variable names. These are reserved words that define the structure and logic of the language, so trying to use them as identifiers will throw a syntax error.\n",
        "\n",
        "5. What is mutability in Python?\n",
        "\n",
        "Ans. Mutability in Python refers to whether an object’s internal state (its data) can be changed after it’s created. Example: list, dict, set, custom classes.\n",
        "\n",
        "6. Why are lists mutable, but tuples are immutable?\n",
        "\n",
        "Ans. The difference in mutability between lists & tuples isn’t arbitrary; it’s intentional & serves distinct purposes in how Python handles data structures.\n",
        "**Lists Are Mutable Because…**\n",
        "* Designed for dynamic data: Lists are meant to grow, shrink, and change. You can append, remove, or modify elements freely.\n",
        "* Use cases: Ideal for scenarios where data changes over time—like toggling module types, updating cost blocks, or iterating over bid scenarios.\n",
        "* Memory layout: Lists use a flexible memory allocation strategy that allows resizing and in-place updates.\n",
        "**Tuples Are Immutable Because…**\n",
        "* Designed for fixed data: Tuples are meant to represent constant, unchangeable collections—like coordinates, regulatory constants, or config flags.\n",
        "* Hashability: Because they don’t change, tuples can be used as dictionary keys or set members, unlike lists.\n",
        "* Performance: Tuples are faster to create and access, and Python can optimize their storage and lookup.\n",
        "* Safety: Immutability prevents accidental changes, which is critical in multi-threaded or functional programming contexts.\n",
        "7. What is the difference between “==” and “is” operators in Python?\n",
        "\n",
        "Ans. '==' Operator perform Equality Check, Compares values of two objects.\n",
        "\n",
        "'is' Operator perform Identity Check, Compares memory addresses (object identity).Returns True only if both variables point to the exact same object.\n",
        "\n",
        "8. What are logical operators in Python?\n",
        "\n",
        "Ans. Logical operators in Python are used to combine or manipulate Boolean expressions—expressions that evaluate to either True or False. They’re essential for decision-making, conditional flows, and writing clean, readable control logic. Example: and, or, not.\n",
        "\n",
        "9. What is type casting in Python?\n",
        "\n",
        "Ans. Type casting in Python is the process of converting a value from one data type to another.\n",
        "**Two Types of Type Casting:**\n",
        "* Implicit Type Casting\n",
        "* Explicit Type Casting\n",
        "\n",
        "10. What is the difference between implicit and explicit type casting?\n",
        "\n",
        "Ans. Difference:\n",
        "* Implicit Type Casting (Automatic): Python automatically converts one data type to another when needed—usually to avoid data loss.\n",
        "* Explicit Type Casting (Manual): We tell Python to convert the type using built-in functions like int(), float(), str(), etc.\n",
        "\n",
        "11.  What is the purpose of conditional statements in Python?\n",
        "\n",
        "Ans. Conditional statements in Python are the decision-makers of program code. They allow program to choose different paths of execution based on whether certain conditions are true or false. Act as the logic gates that control what happens next. **Purpose of Conditional Statements:**\n",
        "* Control Flow: They determine which block of code runs, depending on the situation.\n",
        "* Dynamic Behavior: Your program can respond to user input, data values, or external conditions.\n",
        "* Error Handling: You can catch and respond to invalid inputs or unexpected states.\n",
        "* Efficiency: Avoids executing unnecessary code, saving time and resources.\n",
        "\n",
        "12.  How does the elif statement work?\n",
        "\n",
        "Ans. The elif statement in Python stands for “else if”, and it’s used to check multiple conditions in a clean, readable way. It comes after an initial if and before an optional else, allowing your program to evaluate conditions sequentially until one is true. If none of the if or elif conditions are True, it runs the else block (if present).\n",
        "13. What is the difference between for and while loops?\n",
        "\n",
        "Ans.\n",
        "* for Loop — Iterate Over a Sequence,Use when you know how many times you want to loop. Ideal for looping over lists, tuples, strings, ranges, or any iterable.\n",
        "* while Loop — Run Based on a Condition, Use when you want to loop until a condition is no longer true. Ideal for indefinite repetition, like waiting for user input or monitoring a system state.\n",
        "\n",
        "14. Describe a scenario where a while loop is more suitable than a for loop?\n",
        "\n",
        "Ans. Financial modeling for new project’s IRR and want to simulate financing scenarios until the IRR exceeds a target (say, 14%). You don’t know how many iterations it’ll take, because it depends on dynamic inputs like tax depreciation, wheeling losses, or module efficiency.\n",
        "\n",
        "Here, while is ideal because the loop continues until a condition is met, not for a fixed number of steps."
      ],
      "metadata": {
        "id": "nhxvxVjbvlc1"
      }
    },
    {
      "cell_type": "code",
      "source": [
        "# 1.Write a Python program to print \"Hello, World!\"\n",
        "print(\"Hello,World!\")"
      ],
      "metadata": {
        "id": "ULnyLVyFw0J9",
        "colab": {
          "base_uri": "https://localhost:8080/"
        },
        "outputId": "ac5731be-4bf7-41bd-830a-caa8aeb3d5b2"
      },
      "execution_count": 1,
      "outputs": [
        {
          "output_type": "stream",
          "name": "stdout",
          "text": [
            "Hello,World!\n"
          ]
        }
      ]
    },
    {
      "cell_type": "code",
      "source": [
        "# 2. Write a Python program that displays your name and age\n",
        "print(\"Name-Hem Pandey\")\n",
        "print(\"Age-28\")"
      ],
      "metadata": {
        "colab": {
          "base_uri": "https://localhost:8080/"
        },
        "id": "vb0YLgJ8VxHd",
        "outputId": "d5157759-eddb-43c0-fcb9-c9eacabd6016"
      },
      "execution_count": 38,
      "outputs": [
        {
          "output_type": "stream",
          "name": "stdout",
          "text": [
            "Name-Hem Pandey\n",
            "Age-28\n"
          ]
        }
      ]
    },
    {
      "cell_type": "code",
      "source": [
        "# 3.Write code to print all the pre-defined keywords in Python using the keyword library\n",
        "help('keywords')"
      ],
      "metadata": {
        "colab": {
          "base_uri": "https://localhost:8080/"
        },
        "id": "0S9jNwPKWsjE",
        "outputId": "989f2ec2-4b2f-4f10-c822-dc659916804c"
      },
      "execution_count": 11,
      "outputs": [
        {
          "output_type": "stream",
          "name": "stdout",
          "text": [
            "\n",
            "Here is a list of the Python keywords.  Enter any keyword to get more help.\n",
            "\n",
            "False               class               from                or\n",
            "None                continue            global              pass\n",
            "True                def                 if                  raise\n",
            "and                 del                 import              return\n",
            "as                  elif                in                  try\n",
            "assert              else                is                  while\n",
            "async               except              lambda              with\n",
            "await               finally             nonlocal            yield\n",
            "break               for                 not                 \n",
            "\n"
          ]
        }
      ]
    },
    {
      "cell_type": "code",
      "metadata": {
        "colab": {
          "base_uri": "https://localhost:8080/"
        },
        "id": "5075dfdd",
        "outputId": "5694c73a-68e1-4b19-9ef5-268343f4425f"
      },
      "source": [
        "#4. Write a program that checks if a given word is a Python keyword\n",
        "import keyword\n",
        "keywords_list = keyword.kwlist\n",
        "word = input(\"Enter a word to check: \")\n",
        "if word in keywords_list:\n",
        "    print(f\"'{word}' is a Python keyword.\")\n",
        "else:\n",
        "    print(f\"'{word}' is not a Python keyword.\")"
      ],
      "execution_count": 25,
      "outputs": [
        {
          "output_type": "stream",
          "name": "stdout",
          "text": [
            "Enter a word to check: is\n",
            "'is' is a Python keyword.\n"
          ]
        }
      ]
    },
    {
      "cell_type": "code",
      "source": [
        "#5. Create a list and tuple in Python, and demonstrate how attempting to change an element works differently\n",
        "# for each.\n",
        "\n",
        "l1=[1,2,3]\n",
        "t1=(2,4,'ram',6)\n",
        "l1.append(9)\n",
        "# t1.append(9)    'tuple' object has no attribute 'append'\n",
        "print(l1)   # list can be changed\n",
        "print(t1)   # tuple cannot be changed"
      ],
      "metadata": {
        "colab": {
          "base_uri": "https://localhost:8080/"
        },
        "id": "SqFbfWXobDZC",
        "outputId": "2d6d4259-d897-4f2e-eaf5-f9fba021a403"
      },
      "execution_count": 37,
      "outputs": [
        {
          "output_type": "stream",
          "name": "stdout",
          "text": [
            "[1, 2, 3, 9]\n",
            "(2, 4, 'ram', 6)\n"
          ]
        }
      ]
    },
    {
      "cell_type": "code",
      "source": [
        "#6. Write a function to demonstrate the behavior of mutable and immutable arguments.\n",
        "def argument(mut,imut):\n",
        "  mut.append(10)\n",
        "  print(\"mutable value inside func\",mut )\n",
        "  imut+=10\n",
        "  print(\"immutable value inside func\",imut )\n",
        "\n",
        "x=[2,3,4]   #mutable list\n",
        "y=5  #immutable integer\n",
        "argument(x,y)\n",
        "print(\"mutable value outside func\",x )\n",
        "print(\"immutable value outside func\",y ) #no change in y value\n"
      ],
      "metadata": {
        "colab": {
          "base_uri": "https://localhost:8080/"
        },
        "id": "NtEVJWmNhWrE",
        "outputId": "46b118e6-c7e4-4da1-88de-d5577bb466fc"
      },
      "execution_count": 43,
      "outputs": [
        {
          "output_type": "stream",
          "name": "stdout",
          "text": [
            "mutable value inside func [2, 3, 4, 10]\n",
            "immutable value inside func 15\n",
            "mutable value outside func [2, 3, 4, 10]\n",
            "immutable value outside func 5\n"
          ]
        }
      ]
    },
    {
      "cell_type": "code",
      "source": [
        "#7.  Write a program that performs basic arithmetic operations on two user-input numbers\n",
        "num1=int(input(\"enter 1st number\"))\n",
        "num2=int(input(\"enter 2nd number\"))\n",
        "print(\"Addition of numbers\",num1+num2)\n",
        "print(\"Divison of numbers\",num1/num2)"
      ],
      "metadata": {
        "colab": {
          "base_uri": "https://localhost:8080/"
        },
        "id": "_DwcYOnZmmUv",
        "outputId": "8a734411-0f4d-4b51-bafd-f9e3e4dd69cc"
      },
      "execution_count": 55,
      "outputs": [
        {
          "output_type": "stream",
          "name": "stdout",
          "text": [
            "enter 1st number23\n",
            "enter 2nd number4\n",
            "Addition of numbers 27\n",
            "Divison of numbers 5.75\n"
          ]
        }
      ]
    },
    {
      "cell_type": "code",
      "source": [
        "#8. Write a program to demonstrate the use of logical operators\n",
        "m=int(input(\"enter marks \"))\n",
        "n=input(\"student is obedient(yes/no) \")\n",
        "\n",
        "if m >= 50 and n == 'yes':\n",
        "    print(\"Average & obedient \")\n",
        "\n",
        "\n",
        "if m < 50 or n == 'no':\n",
        "    print(\"Below Average\")\n",
        "\n",
        "if not (m>33):\n",
        "    print(\"not eligible for next class \")\n",
        "\n"
      ],
      "metadata": {
        "colab": {
          "base_uri": "https://localhost:8080/"
        },
        "id": "V1YGySTCqB4V",
        "outputId": "d3697bc6-0c15-4824-ef6c-2fb37cb37825"
      },
      "execution_count": 85,
      "outputs": [
        {
          "output_type": "stream",
          "name": "stdout",
          "text": [
            "enter marks 31\n",
            "student is obedient(yes/no) no\n",
            "Below Average\n",
            "not eligible for next class \n"
          ]
        }
      ]
    },
    {
      "cell_type": "code",
      "source": [
        "#9 Write a Python program to convert user input from string to integer, float, and boolean types\n",
        "n=input(\"enter any value \")\n",
        "print(\"integer value\",int(float(n)))\n",
        "print(\"float value\", float(n))\n",
        "print(\"boolean value\",bool(n))"
      ],
      "metadata": {
        "colab": {
          "base_uri": "https://localhost:8080/"
        },
        "id": "XQDMiK63xG26",
        "outputId": "df6471b6-7bc6-4bd9-9c77-209800f739bf"
      },
      "execution_count": 108,
      "outputs": [
        {
          "output_type": "stream",
          "name": "stdout",
          "text": [
            "enter any value 67.66\n",
            "integer value 67\n",
            "float value 67.66\n",
            "boolean value True\n"
          ]
        }
      ]
    },
    {
      "cell_type": "code",
      "source": [
        "#10.  Write code to demonstrate type casting with list elements.\n",
        "data = [\"42\", \"3.14\", \"0\", \"\", \"True\", \"False\", \"hello\"]\n",
        "print(\"Original list:\", data)\n",
        "int_cast = []\n",
        "for item in data:\n",
        "    try:\n",
        "      int_cast.append(int(float(item)))  # Handles both integers and floats\n",
        "    except:\n",
        "      int_cast.append(None)  # Use None for non-convertible items\n",
        "print(\"Integer cast:\", int_cast)\n",
        "float_cast = []\n",
        "for item in data:\n",
        "    try:\n",
        "        float_cast.append(float(item))\n",
        "    except:\n",
        "        float_cast.append(None)\n",
        "print(\"Float cast:\", float_cast)\n",
        "bool_cast = [bool(item) for item in data]\n",
        "print(\"Boolean cast:\", bool_cast)\n"
      ],
      "metadata": {
        "colab": {
          "base_uri": "https://localhost:8080/"
        },
        "id": "hiOgmjXTqgsv",
        "outputId": "d98e3f47-9b9c-4d9f-aa4b-49a9aba5630e"
      },
      "execution_count": 109,
      "outputs": [
        {
          "output_type": "stream",
          "name": "stdout",
          "text": [
            "Original list: ['42', '3.14', '0', '', 'True', 'False', 'hello']\n",
            "Integer cast: [42, 3, 0, None, None, None, None]\n",
            "Float cast: [42.0, 3.14, 0.0, None, None, None, None]\n",
            "Boolean cast: [True, True, True, False, True, True, True]\n"
          ]
        }
      ]
    },
    {
      "cell_type": "code",
      "source": [
        "#11.  Write a program that checks if a number is positive, negative, or zero\n",
        "num=int(input(\"enter number\"))\n",
        "if num>0:\n",
        "  print(\"number is positive\")\n",
        "elif num<0:\n",
        "  print(\"number is negative\")\n",
        "else:\n",
        "  print(\"number is zero\")"
      ],
      "metadata": {
        "colab": {
          "base_uri": "https://localhost:8080/"
        },
        "id": "obwxEq6WDDU9",
        "outputId": "aec597f2-4cfa-4385-a137-31b890157ff2"
      },
      "execution_count": 114,
      "outputs": [
        {
          "output_type": "stream",
          "name": "stdout",
          "text": [
            "enter number-99\n",
            "number is negative\n"
          ]
        }
      ]
    },
    {
      "cell_type": "code",
      "source": [
        "#12. Write a for loop to print numbers from 1 to 10\n",
        "for i in range(1,11):\n",
        "  print(i, end=\"  \")"
      ],
      "metadata": {
        "colab": {
          "base_uri": "https://localhost:8080/"
        },
        "id": "ma4uwZQND3wl",
        "outputId": "ff2e9eb8-7b22-447c-b5a7-cd0a7f5d0816"
      },
      "execution_count": 118,
      "outputs": [
        {
          "output_type": "stream",
          "name": "stdout",
          "text": [
            "1  2  3  4  5  6  7  8  9  10  "
          ]
        }
      ]
    },
    {
      "cell_type": "code",
      "source": [
        "#13. Write a Python program to find the sum of all even numbers between 1 and 50.\n",
        "s=0\n",
        "for i in range(1,51):\n",
        "  if i%2==0:\n",
        "    s=s+i\n",
        "    print(i, end=\" \")\n",
        "print()\n",
        "print(\"sum of even no is\",s)"
      ],
      "metadata": {
        "colab": {
          "base_uri": "https://localhost:8080/"
        },
        "id": "M2OGw5VlEMNP",
        "outputId": "cc54b8d7-c9f8-4c90-b9d2-9a1243da57ab"
      },
      "execution_count": 122,
      "outputs": [
        {
          "output_type": "stream",
          "name": "stdout",
          "text": [
            "2 4 6 8 10 12 14 16 18 20 22 24 26 28 30 32 34 36 38 40 42 44 46 48 50 \n",
            "sum of even no is 650\n"
          ]
        }
      ]
    },
    {
      "cell_type": "code",
      "source": [
        "#14. Write a program to reverse a string using a while loop\n",
        "\n",
        "n=input(\"enter string: \")\n",
        "s=''\n",
        "l=len(n)-1\n",
        "while l>=0:\n",
        "  s=s+n[l]\n",
        "  l-=1\n",
        "\n",
        "print(\"reverse of string: \",s)"
      ],
      "metadata": {
        "colab": {
          "base_uri": "https://localhost:8080/"
        },
        "id": "DJco2C1tFCbq",
        "outputId": "06f54711-dfc7-4e4f-c138-ecad60dc4bec"
      },
      "execution_count": 133,
      "outputs": [
        {
          "output_type": "stream",
          "name": "stdout",
          "text": [
            "enter string: yahoo\n",
            "reverse of string:  oohay\n"
          ]
        }
      ]
    },
    {
      "cell_type": "code",
      "source": [
        "#15. Write a Python program to calculate the factorial of a number provided by the user using a while loop.\n",
        "n=int(input(\"enter number: \"))\n",
        "s=1\n",
        "while n>0:\n",
        "  s=s*n\n",
        "  n-=1\n",
        "print(\"Factorial of number:\",s)"
      ],
      "metadata": {
        "colab": {
          "base_uri": "https://localhost:8080/"
        },
        "id": "Pw3a2k6WIMr-",
        "outputId": "d549165e-eb24-464b-84d0-2ffbc6cb3f40"
      },
      "execution_count": 134,
      "outputs": [
        {
          "output_type": "stream",
          "name": "stdout",
          "text": [
            "enter number: 5\n",
            "Factorial of number: 120\n"
          ]
        }
      ]
    },
    {
      "cell_type": "code",
      "source": [],
      "metadata": {
        "id": "m5l6Rn7OJQWS"
      },
      "execution_count": null,
      "outputs": []
    }
  ]
}